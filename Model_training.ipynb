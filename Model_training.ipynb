{
 "cells": [
  {
   "cell_type": "code",
   "execution_count": 1,
   "metadata": {},
   "outputs": [
    {
     "data": {
      "text/plain": [
       "'C:\\\\Users\\\\agupta\\\\Downloads\\\\Analytics vidhya\\\\WNS_hackathon'"
      ]
     },
     "execution_count": 1,
     "metadata": {},
     "output_type": "execute_result"
    }
   ],
   "source": [
    "import pandas as pd\n",
    "import numpy as np\n",
    "\n",
    "import os\n",
    "dirpath = os.getcwd()\n",
    "dirpath"
   ]
  },
  {
   "cell_type": "code",
   "execution_count": 2,
   "metadata": {},
   "outputs": [],
   "source": [
    "train = pd.read_csv(dirpath + '/train_NA17Sgz/train.csv')\n",
    "view_log = pd.read_csv(dirpath + '/train_NA17Sgz/view_log.csv')\n",
    "item_data = pd.read_csv(dirpath + '/train_NA17Sgz/item_data.csv')\n",
    "test = pd.read_csv(dirpath + '/test_aq1FGdB/test.csv')"
   ]
  },
  {
   "cell_type": "code",
   "execution_count": 3,
   "metadata": {},
   "outputs": [],
   "source": [
    "# converting string to datetime format\n",
    "train['impression_time'] = pd.to_datetime(train.impression_time)\n",
    "view_log['server_time'] = pd.to_datetime(view_log.server_time)\n",
    "test['impression_time'] = pd.to_datetime(test.impression_time)"
   ]
  },
  {
   "cell_type": "code",
   "execution_count": 5,
   "metadata": {},
   "outputs": [],
   "source": [
    "# extracting hour and weekday from time \n",
    "train['Hour'] = train.impression_time.dt.hour\n",
    "train['Weekday'] = train.impression_time.dt.day_name()\n",
    "\n",
    "test['Hour'] = test.impression_time.dt.hour\n",
    "test['Weekday'] = test.impression_time.dt.day_name()\n"
   ]
  },
  {
   "cell_type": "code",
   "execution_count": 1,
   "metadata": {},
   "outputs": [
    {
     "ename": "NameError",
     "evalue": "name 'train' is not defined",
     "output_type": "error",
     "traceback": [
      "\u001b[1;31m---------------------------------------------------------------------------\u001b[0m",
      "\u001b[1;31mNameError\u001b[0m                                 Traceback (most recent call last)",
      "\u001b[1;32m<ipython-input-1-d75022a3cdca>\u001b[0m in \u001b[0;36m<module>\u001b[1;34m\u001b[0m\n\u001b[1;32m----> 1\u001b[1;33m \u001b[0mtrain\u001b[0m\u001b[1;33m.\u001b[0m\u001b[0mhead\u001b[0m\u001b[1;33m(\u001b[0m\u001b[1;33m)\u001b[0m\u001b[1;33m,\u001b[0m \u001b[0mtest\u001b[0m\u001b[1;33m.\u001b[0m\u001b[0mhead\u001b[0m\u001b[1;33m(\u001b[0m\u001b[1;33m)\u001b[0m\u001b[1;33m\u001b[0m\u001b[1;33m\u001b[0m\u001b[0m\n\u001b[0m",
      "\u001b[1;31mNameError\u001b[0m: name 'train' is not defined"
     ]
    }
   ],
   "source": [
    "train.head(), test.head()"
   ]
  },
  {
   "cell_type": "code",
   "execution_count": null,
   "metadata": {},
   "outputs": [],
   "source": [
    "print('Creating historic CTRs')\n",
    "# create historic ctr\n",
    "col_list = ['weekday', 'hour', 'app_code', 'is_4G', 'os_version']\n",
    "for col in col_list:\n",
    "    df_temp = df_train.groupby([col])\\\n",
    "                      .apply(lambda x: pd.Series([sum(x['is_click'])/len(x)], index=['click_rate']))\\\n",
    "                      .reset_index().rename(columns={'click_rate':col+'_ctr'})\n",
    "    df_train = pd.merge(left=df_train, right=df_temp, how='left', on=[col])\n",
    "    df_test = pd.merge(left=df_test, right=df_temp, how='left', on=[col])"
   ]
  },
  {
   "cell_type": "code",
   "execution_count": 8,
   "metadata": {},
   "outputs": [],
   "source": [
    "df = pd.read_csv(dirpath + '/inputs/df_model.csv')"
   ]
  },
  {
   "cell_type": "code",
   "execution_count": 9,
   "metadata": {},
   "outputs": [
    {
     "data": {
      "text/html": [
       "<div>\n",
       "<style scoped>\n",
       "    .dataframe tbody tr th:only-of-type {\n",
       "        vertical-align: middle;\n",
       "    }\n",
       "\n",
       "    .dataframe tbody tr th {\n",
       "        vertical-align: top;\n",
       "    }\n",
       "\n",
       "    .dataframe thead th {\n",
       "        text-align: right;\n",
       "    }\n",
       "</style>\n",
       "<table border=\"1\" class=\"dataframe\">\n",
       "  <thead>\n",
       "    <tr style=\"text-align: right;\">\n",
       "      <th></th>\n",
       "      <th>user_id</th>\n",
       "      <th>impression_id</th>\n",
       "      <th>impression_time</th>\n",
       "      <th>is_click</th>\n",
       "      <th>weekday_ctr</th>\n",
       "      <th>hour_ctr</th>\n",
       "      <th>app_code_ctr</th>\n",
       "      <th>is_4G_ctr</th>\n",
       "      <th>os_version_ctr</th>\n",
       "      <th>cnt_visit_l1d</th>\n",
       "      <th>...</th>\n",
       "      <th>cnt_visit_category_1_2_l1d</th>\n",
       "      <th>cnt_visit_category_1_2_l3d</th>\n",
       "      <th>cnt_visit_category_1_2_l7d</th>\n",
       "      <th>cnt_visit_category_1_2_l14d</th>\n",
       "      <th>cnt_visit_category_1_2_l30d</th>\n",
       "      <th>cnt_uniq_item_l1d</th>\n",
       "      <th>cnt_uniq_item_l3d</th>\n",
       "      <th>cnt_uniq_item_l7d</th>\n",
       "      <th>cnt_uniq_item_l14d</th>\n",
       "      <th>cnt_uniq_item_l30d</th>\n",
       "    </tr>\n",
       "  </thead>\n",
       "  <tbody>\n",
       "    <tr>\n",
       "      <th>0</th>\n",
       "      <td>87862</td>\n",
       "      <td>c4ca4238a0b923820dcc509a6f75849b</td>\n",
       "      <td>2018-11-15 00:00:00</td>\n",
       "      <td>0.0</td>\n",
       "      <td>0.045868</td>\n",
       "      <td>0.045731</td>\n",
       "      <td>0.146835</td>\n",
       "      <td>0.046258</td>\n",
       "      <td>0.049290</td>\n",
       "      <td>NaN</td>\n",
       "      <td>...</td>\n",
       "      <td>NaN</td>\n",
       "      <td>NaN</td>\n",
       "      <td>NaN</td>\n",
       "      <td>NaN</td>\n",
       "      <td>NaN</td>\n",
       "      <td>NaN</td>\n",
       "      <td>NaN</td>\n",
       "      <td>NaN</td>\n",
       "      <td>NaN</td>\n",
       "      <td>1.0</td>\n",
       "    </tr>\n",
       "    <tr>\n",
       "      <th>1</th>\n",
       "      <td>63410</td>\n",
       "      <td>45c48cce2e2d7fbdea1afc51c7c6ad26</td>\n",
       "      <td>2018-11-15 00:01:00</td>\n",
       "      <td>1.0</td>\n",
       "      <td>0.045868</td>\n",
       "      <td>0.045731</td>\n",
       "      <td>0.061611</td>\n",
       "      <td>0.044752</td>\n",
       "      <td>0.041651</td>\n",
       "      <td>NaN</td>\n",
       "      <td>...</td>\n",
       "      <td>NaN</td>\n",
       "      <td>NaN</td>\n",
       "      <td>NaN</td>\n",
       "      <td>NaN</td>\n",
       "      <td>NaN</td>\n",
       "      <td>NaN</td>\n",
       "      <td>NaN</td>\n",
       "      <td>NaN</td>\n",
       "      <td>2.0</td>\n",
       "      <td>3.0</td>\n",
       "    </tr>\n",
       "    <tr>\n",
       "      <th>2</th>\n",
       "      <td>71748</td>\n",
       "      <td>70efdf2ec9b086079795c442636b55fb</td>\n",
       "      <td>2018-11-15 00:02:00</td>\n",
       "      <td>0.0</td>\n",
       "      <td>0.045868</td>\n",
       "      <td>0.045731</td>\n",
       "      <td>0.049822</td>\n",
       "      <td>0.044752</td>\n",
       "      <td>0.051762</td>\n",
       "      <td>NaN</td>\n",
       "      <td>...</td>\n",
       "      <td>NaN</td>\n",
       "      <td>NaN</td>\n",
       "      <td>NaN</td>\n",
       "      <td>NaN</td>\n",
       "      <td>NaN</td>\n",
       "      <td>NaN</td>\n",
       "      <td>NaN</td>\n",
       "      <td>NaN</td>\n",
       "      <td>NaN</td>\n",
       "      <td>1.0</td>\n",
       "    </tr>\n",
       "    <tr>\n",
       "      <th>3</th>\n",
       "      <td>69209</td>\n",
       "      <td>8e296a067a37563370ded05f5a3bf3ec</td>\n",
       "      <td>2018-11-15 00:02:00</td>\n",
       "      <td>0.0</td>\n",
       "      <td>0.045868</td>\n",
       "      <td>0.045731</td>\n",
       "      <td>0.123369</td>\n",
       "      <td>0.044752</td>\n",
       "      <td>0.041651</td>\n",
       "      <td>NaN</td>\n",
       "      <td>...</td>\n",
       "      <td>NaN</td>\n",
       "      <td>NaN</td>\n",
       "      <td>NaN</td>\n",
       "      <td>NaN</td>\n",
       "      <td>NaN</td>\n",
       "      <td>NaN</td>\n",
       "      <td>NaN</td>\n",
       "      <td>NaN</td>\n",
       "      <td>NaN</td>\n",
       "      <td>NaN</td>\n",
       "    </tr>\n",
       "    <tr>\n",
       "      <th>4</th>\n",
       "      <td>62873</td>\n",
       "      <td>182be0c5cdcd5072bb1864cdee4d3d6e</td>\n",
       "      <td>2018-11-15 00:02:00</td>\n",
       "      <td>0.0</td>\n",
       "      <td>0.045868</td>\n",
       "      <td>0.045731</td>\n",
       "      <td>0.050202</td>\n",
       "      <td>0.046258</td>\n",
       "      <td>0.041651</td>\n",
       "      <td>NaN</td>\n",
       "      <td>...</td>\n",
       "      <td>NaN</td>\n",
       "      <td>NaN</td>\n",
       "      <td>NaN</td>\n",
       "      <td>NaN</td>\n",
       "      <td>NaN</td>\n",
       "      <td>NaN</td>\n",
       "      <td>NaN</td>\n",
       "      <td>NaN</td>\n",
       "      <td>NaN</td>\n",
       "      <td>2.0</td>\n",
       "    </tr>\n",
       "  </tbody>\n",
       "</table>\n",
       "<p>5 rows × 104 columns</p>\n",
       "</div>"
      ],
      "text/plain": [
       "   user_id                     impression_id      impression_time  is_click  \\\n",
       "0    87862  c4ca4238a0b923820dcc509a6f75849b  2018-11-15 00:00:00       0.0   \n",
       "1    63410  45c48cce2e2d7fbdea1afc51c7c6ad26  2018-11-15 00:01:00       1.0   \n",
       "2    71748  70efdf2ec9b086079795c442636b55fb  2018-11-15 00:02:00       0.0   \n",
       "3    69209  8e296a067a37563370ded05f5a3bf3ec  2018-11-15 00:02:00       0.0   \n",
       "4    62873  182be0c5cdcd5072bb1864cdee4d3d6e  2018-11-15 00:02:00       0.0   \n",
       "\n",
       "   weekday_ctr  hour_ctr  app_code_ctr  is_4G_ctr  os_version_ctr  \\\n",
       "0     0.045868  0.045731      0.146835   0.046258        0.049290   \n",
       "1     0.045868  0.045731      0.061611   0.044752        0.041651   \n",
       "2     0.045868  0.045731      0.049822   0.044752        0.051762   \n",
       "3     0.045868  0.045731      0.123369   0.044752        0.041651   \n",
       "4     0.045868  0.045731      0.050202   0.046258        0.041651   \n",
       "\n",
       "   cnt_visit_l1d         ...          cnt_visit_category_1_2_l1d  \\\n",
       "0            NaN         ...                                 NaN   \n",
       "1            NaN         ...                                 NaN   \n",
       "2            NaN         ...                                 NaN   \n",
       "3            NaN         ...                                 NaN   \n",
       "4            NaN         ...                                 NaN   \n",
       "\n",
       "   cnt_visit_category_1_2_l3d  cnt_visit_category_1_2_l7d  \\\n",
       "0                         NaN                         NaN   \n",
       "1                         NaN                         NaN   \n",
       "2                         NaN                         NaN   \n",
       "3                         NaN                         NaN   \n",
       "4                         NaN                         NaN   \n",
       "\n",
       "   cnt_visit_category_1_2_l14d  cnt_visit_category_1_2_l30d  \\\n",
       "0                          NaN                          NaN   \n",
       "1                          NaN                          NaN   \n",
       "2                          NaN                          NaN   \n",
       "3                          NaN                          NaN   \n",
       "4                          NaN                          NaN   \n",
       "\n",
       "   cnt_uniq_item_l1d  cnt_uniq_item_l3d  cnt_uniq_item_l7d  \\\n",
       "0                NaN                NaN                NaN   \n",
       "1                NaN                NaN                NaN   \n",
       "2                NaN                NaN                NaN   \n",
       "3                NaN                NaN                NaN   \n",
       "4                NaN                NaN                NaN   \n",
       "\n",
       "   cnt_uniq_item_l14d  cnt_uniq_item_l30d  \n",
       "0                 NaN                 1.0  \n",
       "1                 2.0                 3.0  \n",
       "2                 NaN                 1.0  \n",
       "3                 NaN                 NaN  \n",
       "4                 NaN                 2.0  \n",
       "\n",
       "[5 rows x 104 columns]"
      ]
     },
     "execution_count": 9,
     "metadata": {},
     "output_type": "execute_result"
    }
   ],
   "source": [
    "df.head()"
   ]
  },
  {
   "cell_type": "code",
   "execution_count": 10,
   "metadata": {},
   "outputs": [
    {
     "data": {
      "text/plain": [
       "count    105974.000000\n",
       "mean          5.235633\n",
       "std           7.437533\n",
       "min           1.000000\n",
       "25%           1.000000\n",
       "50%           3.000000\n",
       "75%           6.000000\n",
       "max         232.000000\n",
       "Name: cnt_visit_l1d, dtype: float64"
      ]
     },
     "execution_count": 10,
     "metadata": {},
     "output_type": "execute_result"
    }
   ],
   "source": [
    "df.cnt_visit_l1d.describe()"
   ]
  },
  {
   "cell_type": "code",
   "execution_count": 12,
   "metadata": {},
   "outputs": [],
   "source": [
    "df_train = df.loc[(df.impression_time < \"2018-12-07\")  & (df.is_click.notnull()),:]\n",
    "df_valid = df.loc[(df.impression_time >= \"2018-12-07\")  & (df.is_click.notnull()),:]\n",
    "df_test = df.loc[df.is_click.isnull(),:]"
   ]
  },
  {
   "cell_type": "code",
   "execution_count": 13,
   "metadata": {},
   "outputs": [
    {
     "data": {
      "text/plain": [
       "((197093, 104), (40516, 104), (90675, 104))"
      ]
     },
     "execution_count": 13,
     "metadata": {},
     "output_type": "execute_result"
    }
   ],
   "source": [
    "df_train.shape, df_valid.shape, df_test.shape"
   ]
  },
  {
   "cell_type": "code",
   "execution_count": 17,
   "metadata": {},
   "outputs": [],
   "source": [
    "input_cols = [x for x in df.columns.tolist() if x not in ['user_id',\n",
    "'impression_id',\n",
    "'impression_time',\n",
    "'is_click',\n",
    "'cnt_visit_category_1_5_l1d',\n",
    "'cnt_visit_category_1_5_l3d',\n",
    "'cnt_visit_category_1_5_l7d',\n",
    "'cnt_visit_category_1_5_l14d',\n",
    "'cnt_visit_category_1_5_l30d',\n",
    "'cnt_visit_category_1_2_l1d',\n",
    "'cnt_visit_category_1_2_l3d',\n",
    "'cnt_visit_category_1_2_l7d',\n",
    "'cnt_visit_category_1_2_l14d',\n",
    "'cnt_visit_category_1_2_l30d']]"
   ]
  },
  {
   "cell_type": "code",
   "execution_count": 18,
   "metadata": {},
   "outputs": [
    {
     "data": {
      "text/plain": [
       "90"
      ]
     },
     "execution_count": 18,
     "metadata": {},
     "output_type": "execute_result"
    }
   ],
   "source": [
    "len(input_cols)"
   ]
  },
  {
   "cell_type": "code",
   "execution_count": 22,
   "metadata": {},
   "outputs": [],
   "source": [
    "x_train, y_train = df_train[input_cols].values, df_train['is_click'].values\n",
    "x_valid, y_valid = df_valid[input_cols].values, df_valid['is_click'].values\n",
    "x_test, y_test = df_test[input_cols].values, df_test['is_click'].values"
   ]
  },
  {
   "cell_type": "code",
   "execution_count": 8,
   "metadata": {
    "scrolled": true
   },
   "outputs": [
    {
     "data": {
      "text/plain": [
       "'import sklearn\\nfrom xgboost import XGBClassifier\\nfrom sklearn.metrics import classification_report\\nfrom sklearn.model_selection import train_test_split'"
      ]
     },
     "execution_count": 8,
     "metadata": {},
     "output_type": "execute_result"
    }
   ],
   "source": [
    "import sklearn\n",
    "from xgboost import XGBClassifier\n",
    "from sklearn.metrics import classification_report\n",
    "from sklearn.model_selection import train_test_split"
   ]
  },
  {
   "cell_type": "code",
   "execution_count": null,
   "metadata": {},
   "outputs": [],
   "source": [
    "model = XGBClassifier()\n",
    "xgb_clf = model"
   ]
  },
  {
   "cell_type": "code",
   "execution_count": 23,
   "metadata": {},
   "outputs": [
    {
     "name": "stdout",
     "output_type": "stream",
     "text": [
      "[0]\tvalidation_0-logloss:0.614175\n",
      "Will train until validation_0-logloss hasn't improved in 10 rounds.\n",
      "[1]\tvalidation_0-logloss:0.549727\n",
      "[2]\tvalidation_0-logloss:0.49617\n",
      "[3]\tvalidation_0-logloss:0.451237\n",
      "[4]\tvalidation_0-logloss:0.41322\n",
      "[5]\tvalidation_0-logloss:0.380721\n",
      "[6]\tvalidation_0-logloss:0.352894\n",
      "[7]\tvalidation_0-logloss:0.329026\n",
      "[8]\tvalidation_0-logloss:0.308495\n",
      "[9]\tvalidation_0-logloss:0.290719\n",
      "[10]\tvalidation_0-logloss:0.275286\n",
      "[11]\tvalidation_0-logloss:0.261911\n",
      "[12]\tvalidation_0-logloss:0.250326\n",
      "[13]\tvalidation_0-logloss:0.24017\n",
      "[14]\tvalidation_0-logloss:0.231404\n",
      "[15]\tvalidation_0-logloss:0.223746\n",
      "[16]\tvalidation_0-logloss:0.217117\n",
      "[17]\tvalidation_0-logloss:0.211355\n",
      "[18]\tvalidation_0-logloss:0.206371\n",
      "[19]\tvalidation_0-logloss:0.202063\n",
      "[20]\tvalidation_0-logloss:0.198293\n",
      "[21]\tvalidation_0-logloss:0.195043\n",
      "[22]\tvalidation_0-logloss:0.192226\n",
      "[23]\tvalidation_0-logloss:0.189791\n",
      "[24]\tvalidation_0-logloss:0.187667\n",
      "[25]\tvalidation_0-logloss:0.185875\n",
      "[26]\tvalidation_0-logloss:0.18434\n",
      "[27]\tvalidation_0-logloss:0.182975\n",
      "[28]\tvalidation_0-logloss:0.181833\n",
      "[29]\tvalidation_0-logloss:0.180853\n",
      "[30]\tvalidation_0-logloss:0.180018\n",
      "[31]\tvalidation_0-logloss:0.179313\n",
      "[32]\tvalidation_0-logloss:0.178708\n",
      "[33]\tvalidation_0-logloss:0.178171\n",
      "[34]\tvalidation_0-logloss:0.17774\n",
      "[35]\tvalidation_0-logloss:0.177371\n",
      "[36]\tvalidation_0-logloss:0.177012\n",
      "[37]\tvalidation_0-logloss:0.176742\n",
      "[38]\tvalidation_0-logloss:0.176489\n",
      "[39]\tvalidation_0-logloss:0.176294\n",
      "[40]\tvalidation_0-logloss:0.176143\n",
      "[41]\tvalidation_0-logloss:0.175982\n",
      "[42]\tvalidation_0-logloss:0.175858\n",
      "[43]\tvalidation_0-logloss:0.17577\n",
      "[44]\tvalidation_0-logloss:0.175696\n",
      "[45]\tvalidation_0-logloss:0.175639\n",
      "[46]\tvalidation_0-logloss:0.175588\n",
      "[47]\tvalidation_0-logloss:0.175542\n",
      "[48]\tvalidation_0-logloss:0.175499\n",
      "[49]\tvalidation_0-logloss:0.175455\n",
      "[50]\tvalidation_0-logloss:0.175407\n",
      "[51]\tvalidation_0-logloss:0.175371\n",
      "[52]\tvalidation_0-logloss:0.175346\n",
      "[53]\tvalidation_0-logloss:0.175321\n",
      "[54]\tvalidation_0-logloss:0.175299\n",
      "[55]\tvalidation_0-logloss:0.175286\n",
      "[56]\tvalidation_0-logloss:0.175275\n",
      "[57]\tvalidation_0-logloss:0.175265\n",
      "[58]\tvalidation_0-logloss:0.17526\n",
      "[59]\tvalidation_0-logloss:0.175264\n",
      "[60]\tvalidation_0-logloss:0.175241\n",
      "[61]\tvalidation_0-logloss:0.175225\n",
      "[62]\tvalidation_0-logloss:0.175218\n",
      "[63]\tvalidation_0-logloss:0.175208\n",
      "[64]\tvalidation_0-logloss:0.175211\n",
      "[65]\tvalidation_0-logloss:0.175209\n",
      "[66]\tvalidation_0-logloss:0.175224\n",
      "[67]\tvalidation_0-logloss:0.175212\n",
      "[68]\tvalidation_0-logloss:0.175201\n",
      "[69]\tvalidation_0-logloss:0.175185\n",
      "[70]\tvalidation_0-logloss:0.175192\n",
      "[71]\tvalidation_0-logloss:0.17517\n",
      "[72]\tvalidation_0-logloss:0.175167\n",
      "[73]\tvalidation_0-logloss:0.175161\n",
      "[74]\tvalidation_0-logloss:0.175161\n",
      "[75]\tvalidation_0-logloss:0.175147\n",
      "[76]\tvalidation_0-logloss:0.175141\n",
      "[77]\tvalidation_0-logloss:0.175141\n",
      "[78]\tvalidation_0-logloss:0.175132\n",
      "[79]\tvalidation_0-logloss:0.175121\n",
      "[80]\tvalidation_0-logloss:0.175104\n",
      "[81]\tvalidation_0-logloss:0.175098\n",
      "[82]\tvalidation_0-logloss:0.175101\n",
      "[83]\tvalidation_0-logloss:0.175095\n",
      "[84]\tvalidation_0-logloss:0.175088\n",
      "[85]\tvalidation_0-logloss:0.175087\n",
      "[86]\tvalidation_0-logloss:0.175081\n",
      "[87]\tvalidation_0-logloss:0.175068\n",
      "[88]\tvalidation_0-logloss:0.175066\n",
      "[89]\tvalidation_0-logloss:0.175073\n",
      "[90]\tvalidation_0-logloss:0.175066\n",
      "[91]\tvalidation_0-logloss:0.175074\n",
      "[92]\tvalidation_0-logloss:0.175067\n",
      "[93]\tvalidation_0-logloss:0.175069\n",
      "[94]\tvalidation_0-logloss:0.175078\n",
      "[95]\tvalidation_0-logloss:0.175095\n",
      "[96]\tvalidation_0-logloss:0.175095\n",
      "[97]\tvalidation_0-logloss:0.175078\n",
      "[98]\tvalidation_0-logloss:0.175074\n",
      "Stopping. Best iteration:\n",
      "[88]\tvalidation_0-logloss:0.175066\n",
      "\n"
     ]
    },
    {
     "data": {
      "text/plain": [
       "XGBClassifier(base_score=0.5, booster='gbtree', colsample_bylevel=1,\n",
       "       colsample_bynode=1, colsample_bytree=1, gamma=0, learning_rate=0.1,\n",
       "       max_delta_step=0, max_depth=3, min_child_weight=1, missing=None,\n",
       "       n_estimators=100, n_jobs=1, nthread=None,\n",
       "       objective='binary:logistic', random_state=0, reg_alpha=0,\n",
       "       reg_lambda=1, scale_pos_weight=1, seed=None, silent=None,\n",
       "       subsample=1, verbosity=1)"
      ]
     },
     "execution_count": 23,
     "metadata": {},
     "output_type": "execute_result"
    }
   ],
   "source": [
    "xgb_clf.fit(x_train, y_train, early_stopping_rounds=10,\n",
    "            eval_metric=\"logloss\", eval_set=[(x_valid, y_valid)])"
   ]
  },
  {
   "cell_type": "code",
   "execution_count": 24,
   "metadata": {},
   "outputs": [],
   "source": [
    "y_pred = xgb_clf.predict_proba(x_valid)[:,1]\n",
    "y_pred_bin = xgb_clf.predict(x_valid)\n",
    "predictions_bin = [round(value) for value in y_pred_bin]\n",
    "predictions = y_pred"
   ]
  },
  {
   "cell_type": "code",
   "execution_count": 25,
   "metadata": {},
   "outputs": [
    {
     "name": "stdout",
     "output_type": "stream",
     "text": [
      "0.9533270806594926\n",
      "[[38623     0]\n",
      " [ 1891     2]]\n",
      "0.7155474803305044\n"
     ]
    }
   ],
   "source": [
    "from sklearn import metrics\n",
    "\n",
    "print(metrics.accuracy_score(y_valid, predictions_bin))\n",
    "print(metrics.confusion_matrix(y_valid, predictions_bin))\n",
    "print(metrics.roc_auc_score(y_valid, predictions))"
   ]
  },
  {
   "cell_type": "code",
   "execution_count": 26,
   "metadata": {},
   "outputs": [],
   "source": [
    "y_test_pred = xgb_clf.predict_proba(x_test)[:,1]"
   ]
  },
  {
   "cell_type": "code",
   "execution_count": 27,
   "metadata": {},
   "outputs": [],
   "source": [
    "df_submission = pd.DataFrame()\n",
    "df_submission['impression_id'] = df_test.impression_id\n",
    "df_submission['is_click'] = y_test_pred"
   ]
  },
  {
   "cell_type": "code",
   "execution_count": 28,
   "metadata": {},
   "outputs": [],
   "source": [
    "df_submission.to_csv(dirpath + '/Submissions/submission_xgboost_viewlog_unique_item.csv', index = False)"
   ]
  },
  {
   "cell_type": "code",
   "execution_count": 30,
   "metadata": {},
   "outputs": [
    {
     "data": {
      "text/html": [
       "<div>\n",
       "<style scoped>\n",
       "    .dataframe tbody tr th:only-of-type {\n",
       "        vertical-align: middle;\n",
       "    }\n",
       "\n",
       "    .dataframe tbody tr th {\n",
       "        vertical-align: top;\n",
       "    }\n",
       "\n",
       "    .dataframe thead th {\n",
       "        text-align: right;\n",
       "    }\n",
       "</style>\n",
       "<table border=\"1\" class=\"dataframe\">\n",
       "  <thead>\n",
       "    <tr style=\"text-align: right;\">\n",
       "      <th></th>\n",
       "      <th>impression_id</th>\n",
       "      <th>impression_time</th>\n",
       "      <th>user_id</th>\n",
       "      <th>app_code</th>\n",
       "      <th>os_version</th>\n",
       "      <th>is_4G</th>\n",
       "      <th>Hour</th>\n",
       "      <th>Weekday</th>\n",
       "    </tr>\n",
       "  </thead>\n",
       "  <tbody>\n",
       "    <tr>\n",
       "      <th>0</th>\n",
       "      <td>a9e7126a585a69a32bc7414e9d0c0ada</td>\n",
       "      <td>2018-12-13 07:44:00</td>\n",
       "      <td>44754</td>\n",
       "      <td>127</td>\n",
       "      <td>latest</td>\n",
       "      <td>1</td>\n",
       "      <td>7</td>\n",
       "      <td>Thursday</td>\n",
       "    </tr>\n",
       "    <tr>\n",
       "      <th>1</th>\n",
       "      <td>caac14a5bf2ba283db7708bb34855760</td>\n",
       "      <td>2018-12-13 07:45:00</td>\n",
       "      <td>29656</td>\n",
       "      <td>44</td>\n",
       "      <td>latest</td>\n",
       "      <td>0</td>\n",
       "      <td>7</td>\n",
       "      <td>Thursday</td>\n",
       "    </tr>\n",
       "    <tr>\n",
       "      <th>2</th>\n",
       "      <td>13f10ba306a19ce7bec2f3cae507b698</td>\n",
       "      <td>2018-12-13 07:46:00</td>\n",
       "      <td>25234</td>\n",
       "      <td>296</td>\n",
       "      <td>latest</td>\n",
       "      <td>1</td>\n",
       "      <td>7</td>\n",
       "      <td>Thursday</td>\n",
       "    </tr>\n",
       "    <tr>\n",
       "      <th>3</th>\n",
       "      <td>39c4b4dc0e9701b55a0a4f072008fb3f</td>\n",
       "      <td>2018-12-13 07:47:00</td>\n",
       "      <td>22988</td>\n",
       "      <td>207</td>\n",
       "      <td>latest</td>\n",
       "      <td>1</td>\n",
       "      <td>7</td>\n",
       "      <td>Thursday</td>\n",
       "    </tr>\n",
       "    <tr>\n",
       "      <th>4</th>\n",
       "      <td>bf5a572cca75f5fc67f4b14e58b11d70</td>\n",
       "      <td>2018-12-13 07:48:00</td>\n",
       "      <td>35431</td>\n",
       "      <td>242</td>\n",
       "      <td>latest</td>\n",
       "      <td>1</td>\n",
       "      <td>7</td>\n",
       "      <td>Thursday</td>\n",
       "    </tr>\n",
       "  </tbody>\n",
       "</table>\n",
       "</div>"
      ],
      "text/plain": [
       "                      impression_id     impression_time  user_id  app_code  \\\n",
       "0  a9e7126a585a69a32bc7414e9d0c0ada 2018-12-13 07:44:00    44754       127   \n",
       "1  caac14a5bf2ba283db7708bb34855760 2018-12-13 07:45:00    29656        44   \n",
       "2  13f10ba306a19ce7bec2f3cae507b698 2018-12-13 07:46:00    25234       296   \n",
       "3  39c4b4dc0e9701b55a0a4f072008fb3f 2018-12-13 07:47:00    22988       207   \n",
       "4  bf5a572cca75f5fc67f4b14e58b11d70 2018-12-13 07:48:00    35431       242   \n",
       "\n",
       "  os_version  is_4G  Hour   Weekday  \n",
       "0     latest      1     7  Thursday  \n",
       "1     latest      0     7  Thursday  \n",
       "2     latest      1     7  Thursday  \n",
       "3     latest      1     7  Thursday  \n",
       "4     latest      1     7  Thursday  "
      ]
     },
     "execution_count": 30,
     "metadata": {},
     "output_type": "execute_result"
    }
   ],
   "source": [
    "test.head()"
   ]
  },
  {
   "cell_type": "code",
   "execution_count": 31,
   "metadata": {},
   "outputs": [
    {
     "data": {
      "text/plain": [
       "90675"
      ]
     },
     "execution_count": 31,
     "metadata": {},
     "output_type": "execute_result"
    }
   ],
   "source": [
    "test.impression_id.nunique()"
   ]
  },
  {
   "cell_type": "code",
   "execution_count": 4,
   "metadata": {},
   "outputs": [
    {
     "ename": "NameError",
     "evalue": "name 'average' is not defined",
     "output_type": "error",
     "traceback": [
      "\u001b[1;31m---------------------------------------------------------------------------\u001b[0m",
      "\u001b[1;31mNameError\u001b[0m                                 Traceback (most recent call last)",
      "\u001b[1;32m<ipython-input-4-4c7a932b8d75>\u001b[0m in \u001b[0;36m<module>\u001b[1;34m\u001b[0m\n\u001b[1;32m----> 1\u001b[1;33m \u001b[0maverage\u001b[0m\u001b[1;33m(\u001b[0m\u001b[1;36m2\u001b[0m\u001b[1;33m,\u001b[0m\u001b[1;36m3\u001b[0m\u001b[1;33m)\u001b[0m\u001b[1;33m\u001b[0m\u001b[1;33m\u001b[0m\u001b[0m\n\u001b[0m",
      "\u001b[1;31mNameError\u001b[0m: name 'average' is not defined"
     ]
    }
   ],
   "source": [
    "average(2,3)"
   ]
  },
  {
   "cell_type": "code",
   "execution_count": null,
   "metadata": {},
   "outputs": [],
   "source": []
  }
 ],
 "metadata": {
  "kernelspec": {
   "display_name": "Python 3",
   "language": "python",
   "name": "python3"
  },
  "language_info": {
   "codemirror_mode": {
    "name": "ipython",
    "version": 3
   },
   "file_extension": ".py",
   "mimetype": "text/x-python",
   "name": "python",
   "nbconvert_exporter": "python",
   "pygments_lexer": "ipython3",
   "version": "3.7.1"
  }
 },
 "nbformat": 4,
 "nbformat_minor": 2
}
